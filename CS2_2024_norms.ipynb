{
 "cells": [
  {
   "cell_type": "markdown",
   "metadata": {},
   "source": [
    "-------\n",
    "\n",
    "## Python Libraries\n",
    "\n",
    "We use the following Python libraries which need to be imported. If you have no experience with the [NumPy](https://numpy.org/) library, read the documentation and do some tutorials. It is very important for matrix operations in Python."
   ]
  },
  {
   "cell_type": "code",
   "execution_count": 15,
   "metadata": {},
   "outputs": [
    {
     "name": "stdout",
     "output_type": "stream",
     "text": [
      "Requirement already satisfied: control in c:\\users\\nicla\\appdata\\local\\packages\\pythonsoftwarefoundation.python.3.10_qbz5n2kfra8p0\\localcache\\local-packages\\python310\\site-packages (0.9.3.post2)\n",
      "Requirement already satisfied: numpy in c:\\users\\nicla\\appdata\\local\\packages\\pythonsoftwarefoundation.python.3.10_qbz5n2kfra8p0\\localcache\\local-packages\\python310\\site-packages (from control) (1.24.2)\n",
      "Requirement already satisfied: scipy>=1.3 in c:\\users\\nicla\\appdata\\local\\packages\\pythonsoftwarefoundation.python.3.10_qbz5n2kfra8p0\\localcache\\local-packages\\python310\\site-packages (from control) (1.10.1)\n",
      "Requirement already satisfied: matplotlib in c:\\users\\nicla\\appdata\\local\\packages\\pythonsoftwarefoundation.python.3.10_qbz5n2kfra8p0\\localcache\\local-packages\\python310\\site-packages (from control) (3.7.1)\n",
      "Requirement already satisfied: contourpy>=1.0.1 in c:\\users\\nicla\\appdata\\local\\packages\\pythonsoftwarefoundation.python.3.10_qbz5n2kfra8p0\\localcache\\local-packages\\python310\\site-packages (from matplotlib->control) (1.0.7)\n",
      "Requirement already satisfied: cycler>=0.10 in c:\\users\\nicla\\appdata\\local\\packages\\pythonsoftwarefoundation.python.3.10_qbz5n2kfra8p0\\localcache\\local-packages\\python310\\site-packages (from matplotlib->control) (0.11.0)\n",
      "Requirement already satisfied: fonttools>=4.22.0 in c:\\users\\nicla\\appdata\\local\\packages\\pythonsoftwarefoundation.python.3.10_qbz5n2kfra8p0\\localcache\\local-packages\\python310\\site-packages (from matplotlib->control) (4.39.3)\n",
      "Requirement already satisfied: kiwisolver>=1.0.1 in c:\\users\\nicla\\appdata\\local\\packages\\pythonsoftwarefoundation.python.3.10_qbz5n2kfra8p0\\localcache\\local-packages\\python310\\site-packages (from matplotlib->control) (1.4.4)\n",
      "Requirement already satisfied: packaging>=20.0 in c:\\users\\nicla\\appdata\\local\\packages\\pythonsoftwarefoundation.python.3.10_qbz5n2kfra8p0\\localcache\\local-packages\\python310\\site-packages (from matplotlib->control) (23.1)\n",
      "Requirement already satisfied: pillow>=6.2.0 in c:\\users\\nicla\\appdata\\local\\packages\\pythonsoftwarefoundation.python.3.10_qbz5n2kfra8p0\\localcache\\local-packages\\python310\\site-packages (from matplotlib->control) (9.5.0)\n",
      "Requirement already satisfied: pyparsing>=2.3.1 in c:\\users\\nicla\\appdata\\local\\packages\\pythonsoftwarefoundation.python.3.10_qbz5n2kfra8p0\\localcache\\local-packages\\python310\\site-packages (from matplotlib->control) (3.0.9)\n",
      "Requirement already satisfied: python-dateutil>=2.7 in c:\\users\\nicla\\appdata\\local\\packages\\pythonsoftwarefoundation.python.3.10_qbz5n2kfra8p0\\localcache\\local-packages\\python310\\site-packages (from matplotlib->control) (2.8.2)\n",
      "Requirement already satisfied: six>=1.5 in c:\\users\\nicla\\appdata\\local\\packages\\pythonsoftwarefoundation.python.3.10_qbz5n2kfra8p0\\localcache\\local-packages\\python310\\site-packages (from python-dateutil>=2.7->matplotlib->control) (1.16.0)\n"
     ]
    },
    {
     "name": "stderr",
     "output_type": "stream",
     "text": [
      "\n",
      "[notice] A new release of pip is available: 23.3.1 -> 23.3.2\n",
      "[notice] To update, run: C:\\Users\\nicla\\AppData\\Local\\Microsoft\\WindowsApps\\PythonSoftwareFoundation.Python.3.10_qbz5n2kfra8p0\\python.exe -m pip install --upgrade pip\n"
     ]
    }
   ],
   "source": [
    "# Install the required python library with pip\n",
    "!pip install control"
   ]
  },
  {
   "cell_type": "markdown",
   "metadata": {},
   "source": [
    "-------\n",
    "\n",
    "## Installation\n",
    "We use the [Python library](https://python-control.readthedocs.io/en/0.9.3.post2/) `control`, which can be installed using `pip`. If you have no experience with Python, try to do some tutorials (e.g. check [this](https://docs.python.org/3/tutorial/) one). The same goes for installing Python packages using `pip`, see this [tutorial](https://packaging.python.org/en/latest/tutorials/installing-packages/). There are plenty of other Python tutorials for beginners if you do a Google/YouTube search.\n",
    "\n",
    "If you have done all the Jupyter Notebooks leading up to this one, you should have all the necessary libraries installed. \n"
   ]
  },
  {
   "cell_type": "code",
   "execution_count": 16,
   "metadata": {},
   "outputs": [],
   "source": [
    "# Import the required python libraries\n",
    "from typing import Optional, List, Tuple\n",
    "import numpy as np\n",
    "import matplotlib.pyplot as plt\n",
    "import control as ct"
   ]
  },
  {
   "cell_type": "markdown",
   "metadata": {},
   "source": [
    "--------\n",
    "Filler text: Some funny project for the student"
   ]
  },
  {
   "cell_type": "markdown",
   "metadata": {},
   "source": [
    "--------\n",
    "## Exercise 1a:\n",
    "\n",
    "Please complete the following function to calculate the 2-norm and infinity-norm of a vector.\n",
    "\n",
    "$||x||_2 = \\sqrt{\\Sigma_i |x_i|^2}$\n",
    "\n",
    "$||x||_{\\infty} = \\max{|x_i|}$"
   ]
  },
  {
   "cell_type": "code",
   "execution_count": 17,
   "metadata": {},
   "outputs": [],
   "source": [
    "def vector2norm(vector: np.ndarray) -> float:\n",
    "    \"\"\"\n",
    "    Calculate the 2-norm (Euclidean norm) of a NumPy array.\n",
    "\n",
    "    Parameters:\n",
    "    vector (np.ndarray): Input array for which 2-norm is to be calculated.\n",
    "\n",
    "    Returns:\n",
    "    float: The 2-norm of the input array.\n",
    "    \"\"\"\n",
    "    if len(vector) == 0 or vector is None or not isinstance(vector, np.ndarray):\n",
    "        raise ValueError(\"Input vector is invalid\")\n",
    "    \n",
    "    squared_sum = 0.0\n",
    "    for elem in vector:\n",
    "        squared_sum += elem**2\n",
    "    norm = np.sqrt(squared_sum)\n",
    "\n",
    "    return norm"
   ]
  },
  {
   "cell_type": "code",
   "execution_count": 18,
   "metadata": {},
   "outputs": [],
   "source": [
    "def vectorInfnorm(vector: np.ndarray) -> float:\n",
    "    \"\"\"\n",
    "    Calculate the infinity-norm (maximum absolute value) of a NumPy array.\n",
    "\n",
    "    Parameters:\n",
    "    vector (np.ndarray): Input array for which infinity-norm is to be calculated.\n",
    "\n",
    "    Returns:\n",
    "    float: The infinity-norm of the input array.\n",
    "    \"\"\"\n",
    "    if len(vector) == 0 or vector is None or not isinstance(vector, np.ndarray):\n",
    "        raise ValueError(\"Input vector is invalid\")\n",
    "    \n",
    "    max_elem = 0.0\n",
    "    for elem in vector:\n",
    "        if abs(elem) > max_elem:\n",
    "            max_elem = abs(elem)\n",
    "\n",
    "    return max_elem"
   ]
  },
  {
   "cell_type": "markdown",
   "metadata": {},
   "source": [
    "## Exercise 1b\n",
    "\n",
    "Below you find an outline for the p-norm of a vector. Please complete the function.\n",
    "\n",
    "$||x||_p = (\\Sigma_i |x_i|^p)^{\\frac{1}{p}}$"
   ]
  },
  {
   "cell_type": "code",
   "execution_count": 19,
   "metadata": {},
   "outputs": [],
   "source": [
    "def vectorPnorm(vector: np.ndarray, p: float) -> float:\n",
    "    \"\"\"\n",
    "    Calculate the infinity-norm (maximum absolute value) of a NumPy array.\n",
    "\n",
    "    Parameters:\n",
    "    vector (np.ndarray): Input array for which infinity-norm is to be calculated.\n",
    "\n",
    "    Returns:\n",
    "    float: The infinity-norm of the input array.\n",
    "    \"\"\"\n",
    "    if len(vector) == 0 or vector is None or not isinstance(vector, np.ndarray):\n",
    "        raise ValueError(\"Input vector is invalid\")\n",
    "\n",
    "    if p is None:\n",
    "        return vector2norm(vector)\n",
    "\n",
    "    p = float(p)\n",
    "    if not isinstance(p, float) or p <= 0.0:\n",
    "        raise ValueError(\"p must be a positive integer\")\n",
    "\n",
    "    norm_sum = 0.0\n",
    "    for elem in vector:\n",
    "        norm_sum += abs(elem)**p\n",
    "    \n",
    "    return norm_sum**(1/p)"
   ]
  },
  {
   "cell_type": "markdown",
   "metadata": {},
   "source": [
    "Complete the small adjustments needed to make 'vectorPnorm(vector, p)' also work with floating-point variables 'p'.\n",
    "\n",
    "Implement error-handling and exceptions to account for empty inputs! For example, if no p is given, calculate a default norm or throw an error.\n",
    "\n",
    "Test your code below :D"
   ]
  },
  {
   "cell_type": "code",
   "execution_count": 20,
   "metadata": {},
   "outputs": [
    {
     "name": "stdout",
     "output_type": "stream",
     "text": [
      "2-norm of [1 2 3 4 5] is 7.416198487095663\n",
      "3-norm of [1 2 3 4 5] is 6.082201995573399\n",
      "3.5-norm of [1 2 3 4 5] is 5.788317364864018\n",
      "4-norm of [1 2 3 4 5] is 5.593654949523078\n",
      "Inf-norm of [1 2 3 4 5] is 5\n"
     ]
    }
   ],
   "source": [
    "array = np.array([1, 2, 3, 4, 5])\n",
    "norm2 = vector2norm(array)\n",
    "norm3 = vectorPnorm(array, 3)\n",
    "norm3_5 = vectorPnorm(array, 3.5)\n",
    "norm4 = vectorPnorm(array, 4)\n",
    "\n",
    "print(f\"2-norm of {array} is {norm2}\")\n",
    "print(f\"3-norm of {array} is {norm3}\")\n",
    "print(f\"3.5-norm of {array} is {norm3_5}\")\n",
    "print(f\"4-norm of {array} is {norm4}\")\n",
    "print(f\"Inf-norm of {array} is {vectorInfnorm(array)}\")"
   ]
  },
  {
   "cell_type": "markdown",
   "metadata": {},
   "source": [
    "--------\n",
    "## Exercise 2a:\n",
    "\n",
    "Fill out the code for the following matrix norms:\n",
    "\n",
    "$||G||_F = \\sqrt{\\Sigma_{i,j}|g_{ij}|^2}=\\sqrt{tr(G^*G)}$\n",
    "\n",
    "$||G||_{max} = \\max{|g_{ij}|}$\n",
    "\n",
    "$||G||_{i,2} = \\sqrt{\\rho(G^*G)} = \\sqrt{|\\lambda_{max}(G^*G)|} = \\overline{\\sigma}(G)$\n",
    "\n",
    "$||G||_{i,P} = \\max_{\\omega \\neq 0}{\\frac{||G\\omega||_p}{||\\omega||_p}} = \\max_{||\\omega||_p=1}{||G\\omega||_p}$\n",
    "\n",
    "$||G||_{i,\\infty} = max_i{\\Sigma_j |g_{ij}|}$"
   ]
  },
  {
   "cell_type": "code",
   "execution_count": 29,
   "metadata": {},
   "outputs": [],
   "source": [
    "def matrixFrnorm(matrix: np.ndarray) -> float:\n",
    "     \"\"\"\n",
    "     Calculate the Frobenius norm of a matrix manually.\n",
    "\n",
    "     Parameters:\n",
    "     matrix (numpy.ndarray): Input matrix for which the Frobenius norm is to be calculated.\n",
    "\n",
    "     Returns:\n",
    "     float: The Frobenius norm of the input matrix.\n",
    "     \"\"\"\n",
    "     if matrix is None or not isinstance(matrix, np.ndarray):\n",
    "        raise ValueError(\"Input matrix is invalid\")\n",
    "     \n",
    "     squared_sum = 0.0\n",
    "     for row in matrix:\n",
    "          for elem in row:\n",
    "               squared_sum += elem**2\n",
    "     \n",
    "     return np.sqrt(squared_sum)"
   ]
  },
  {
   "cell_type": "code",
   "execution_count": 27,
   "metadata": {},
   "outputs": [],
   "source": [
    "def matrixMaxrnorm(matrix: np.ndarray) -> float:\n",
    "     \"\"\"\n",
    "     Calculate the maximum norm of a matrix manually.\n",
    "\n",
    "     Parameters:\n",
    "     matrix (numpy.ndarray): Input matrix for which the maximum norm is to be calculated.\n",
    "\n",
    "     Returns:\n",
    "     float: The maximum norm of the input matrix.\n",
    "     \"\"\"\n",
    "     if matrix is None or not isinstance(matrix, np.ndarray):\n",
    "        raise ValueError(\"Input matrix is invalid\")\n",
    "\n",
    "     max_elem = 0.0\n",
    "     for row in matrix:\n",
    "          for elem in row:\n",
    "               if abs(elem) > max_elem:\n",
    "                    max_elem = abs(elem)\n",
    "\n",
    "     return max_elem"
   ]
  },
  {
   "cell_type": "code",
   "execution_count": 23,
   "metadata": {},
   "outputs": [],
   "source": [
    "def matrix2norm(matrix: np.ndarray) -> float:\n",
    "    \"\"\"\n",
    "    Calculate the 2-norm of a matrix manually.\n",
    "\n",
    "    Parameters:\n",
    "    matrix (numpy.ndarray): Input matrix for which the 2-norm is to be calculated.\n",
    "\n",
    "    Returns:\n",
    "    float: The 2-norm of the input matrix.\n",
    "    \"\"\"\n",
    "    if matrix is None or not isinstance(matrix, np.ndarray):\n",
    "        raise ValueError(\"Input matrix is invalid\")\n",
    "\n",
    "    product_matrix = np.dot(matrix.T, matrix)\n",
    "    eigenvalues, _ = np.linalg.eig(product_matrix)\n",
    "    max_eigenvalue = np.max(eigenvalues)\n",
    "    norm = np.sqrt(max_eigenvalue)\n",
    "    return norm"
   ]
  },
  {
   "cell_type": "code",
   "execution_count": 24,
   "metadata": {},
   "outputs": [],
   "source": [
    "def matrixPnorm(matrix: np.ndarray, p: float) -> float:\n",
    "    \"\"\"\n",
    "    Calculate the p-norm of a matrix manually.\n",
    "\n",
    "    Parameters:\n",
    "    matrix (numpy.ndarray): Input matrix for which the p-norm is to be calculated.\n",
    "\n",
    "    Returns:\n",
    "    float: The p-norm of the input matrix.\n",
    "    \"\"\"\n",
    "    if matrix is None or not isinstance(matrix, np.ndarray):\n",
    "        raise ValueError(\"Input matrix is invalid\")\n",
    "    if p is None:\n",
    "        return matrix2norm(matrix)\n",
    "    p = float(p)\n",
    "    if not isinstance(p, float) or p <= 0.0:\n",
    "        raise ValueError(\"p must be a positive integer\")\n",
    "\n",
    "    singular_values = calculate_matrix_singular_values(matrix)\n",
    "    norm = np.sum(np.abs(singular_values)**p)**(1.0/p)\n",
    "    return norm\n",
    "\n",
    "def calculate_matrix_singular_values(matrix: np.ndarray) -> np.ndarray:\n",
    "    \"\"\"\n",
    "    Calculate the singular values of a matrix manually.\n",
    "\n",
    "    Parameters:\n",
    "    matrix (numpy.ndarray): Input matrix for which the singular values are to be calculated.\n",
    "\n",
    "    Returns:\n",
    "    numpy.ndarray: The singular values of the input matrix.\n",
    "    \"\"\"\n",
    "    if matrix is None or not isinstance(matrix, np.ndarray):\n",
    "        raise ValueError(\"Input matrix is invalid\")\n",
    "\n",
    "    product_matrix = np.dot(matrix.T, matrix) if matrix.shape[0] > matrix.shape[1] else np.dot(matrix, matrix.T)\n",
    "    eigenvalues, _ = np.linalg.eig(product_matrix)\n",
    "    singular_values = np.sqrt(np.abs(eigenvalues))\n",
    "    return singular_values"
   ]
  },
  {
   "cell_type": "code",
   "execution_count": 25,
   "metadata": {},
   "outputs": [],
   "source": [
    "def matrixInfnorm(matrix: np.ndarray) -> float:\n",
    "    \"\"\"\n",
    "    Calculate the infinity-norm of a matrix manually.\n",
    "\n",
    "    Parameters:\n",
    "    matrix (numpy.ndarray): Input matrix for which the infinity-norm is to be calculated.\n",
    "\n",
    "    Returns:\n",
    "    float: The infinity-norm of the input matrix.\n",
    "    \"\"\"\n",
    "    if matrix is None or not isinstance(matrix, np.ndarray):\n",
    "        raise ValueError(\"Input matrix is invalid\")\n",
    "\n",
    "    row_sums = np.sum(np.abs(matrix), axis=1)  # Calculate absolute row sums\n",
    "    norm = np.max(row_sums)  # Take the maximum of the absolute row sums\n",
    "    return norm"
   ]
  },
  {
   "cell_type": "markdown",
   "metadata": {},
   "source": [
    "--------\n",
    "## Exercise 2b:\n",
    "\n",
    "Test out the norms for some matrices!"
   ]
  },
  {
   "cell_type": "code",
   "execution_count": 30,
   "metadata": {},
   "outputs": [
    {
     "name": "stdout",
     "output_type": "stream",
     "text": [
      "Frobenius norm of [[1 2 3]\n",
      " [4 5 6]\n",
      " [7 8 9]] is 16.881943016134134\n",
      "Max norm of [[1 2 3]\n",
      " [4 5 6]\n",
      " [7 8 9]] is 9\n",
      "2-norm of [[1 2 3]\n",
      " [4 5 6]\n",
      " [7 8 9]] is 16.848103352614213\n",
      "3-norm of [[1 2 3]\n",
      " [4 5 6]\n",
      " [7 8 9]] is 16.849535224829065\n",
      "3.5-norm of [[1 2 3]\n",
      " [4 5 6]\n",
      " [7 8 9]] is 16.84841243172686\n",
      "4-norm of [[1 2 3]\n",
      " [4 5 6]\n",
      " [7 8 9]] is 16.84817145624563\n",
      "Inf-norm of [[1 2 3]\n",
      " [4 5 6]\n",
      " [7 8 9]] is 24\n"
     ]
    }
   ],
   "source": [
    "matrix = np.array([[1, 2, 3], [4, 5, 6], [7, 8, 9]])\n",
    "\n",
    "normF = matrixFrnorm(matrix)\n",
    "normMax = matrixMaxrnorm(matrix)\n",
    "norm2 = matrix2norm(matrix)\n",
    "norm3 = matrixPnorm(matrix, 3)\n",
    "norm3_5 = matrixPnorm(matrix, 3.5)\n",
    "norm4 = matrixPnorm(matrix, 4)\n",
    "normInf = matrixInfnorm(matrix)\n",
    "\n",
    "print(f\"Frobenius norm of {matrix} is {normF}\")\n",
    "print(f\"Max norm of {matrix} is {normMax}\")\n",
    "print(f\"2-norm of {matrix} is {norm2}\")\n",
    "print(f\"3-norm of {matrix} is {norm3}\")\n",
    "print(f\"3.5-norm of {matrix} is {norm3_5}\")\n",
    "print(f\"4-norm of {matrix} is {norm4}\")\n",
    "print(f\"Inf-norm of {matrix} is {normInf}\")"
   ]
  }
 ],
 "metadata": {
  "kernelspec": {
   "display_name": "Python 3",
   "language": "python",
   "name": "python3"
  },
  "language_info": {
   "codemirror_mode": {
    "name": "ipython",
    "version": 3
   },
   "file_extension": ".py",
   "mimetype": "text/x-python",
   "name": "python",
   "nbconvert_exporter": "python",
   "pygments_lexer": "ipython3",
   "version": "3.10.11"
  }
 },
 "nbformat": 4,
 "nbformat_minor": 2
}
